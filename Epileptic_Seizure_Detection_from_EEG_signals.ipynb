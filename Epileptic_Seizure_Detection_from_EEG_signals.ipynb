{
  "nbformat": 4,
  "nbformat_minor": 0,
  "metadata": {
    "colab": {
      "provenance": [],
      "include_colab_link": true
    },
    "kernelspec": {
      "name": "python3",
      "display_name": "Python 3"
    },
    "language_info": {
      "name": "python"
    }
  },
  "cells": [
    {
      "cell_type": "markdown",
      "metadata": {
        "id": "view-in-github",
        "colab_type": "text"
      },
      "source": [
        "<a href=\"https://colab.research.google.com/github/22anushka/Epileptic-seizure-detection-from-eeg-signals/blob/main/Epileptic_Seizure_Detection_from_EEG_signals.ipynb\" target=\"_parent\"><img src=\"https://colab.research.google.com/assets/colab-badge.svg\" alt=\"Open In Colab\"/></a>"
      ]
    },
    {
      "cell_type": "markdown",
      "source": [
        "# Epileptic Seizure Detection from EEG signals\n",
        "\n",
        "```\n",
        "@authors: Anushka S, Kaushik D\n",
        "```"
      ],
      "metadata": {
        "id": "hR5PpDZ28PX_"
      }
    },
    {
      "cell_type": "code",
      "execution_count": null,
      "metadata": {
        "id": "5SlsrXdXLY6T"
      },
      "outputs": [],
      "source": [
        "import tensorflow as tf\n",
        "import numpy as np\n",
        "from keras.models import Sequential\n",
        "from keras.utils import np_utils\n",
        "from keras.layers import Dense, Activation , LSTM , Dropout , AveragePooling3D\n",
        "import pandas as pd\n",
        "\n",
        "import matplotlib.pyplot as plt"
      ]
    },
    {
      "cell_type": "markdown",
      "source": [
        "# Converting UBonn dataset into csv file"
      ],
      "metadata": {
        "id": "lMHe3N2ZRLUw"
      }
    },
    {
      "cell_type": "code",
      "source": [
        "df = pd.DataFrame({}, columns = [i for i in range (0, 4098)])"
      ],
      "metadata": {
        "id": "xE8xeo_3DOZa"
      },
      "execution_count": null,
      "outputs": []
    },
    {
      "cell_type": "code",
      "source": [
        "# UBonn University dataset compilation\n",
        "for x in ['S', 'N', 'F', 'O', 'Z']:\n",
        "  if x == 'N':\n",
        "    ext = '.TXT'\n",
        "  else:\n",
        "    ext = '.txt'\n",
        "  for y in range(1,101):\n",
        "    # print(str(x)+str(f\"{y:03}\")+'.txt')\n",
        "    with open(\"/content/\"+x.lower()+\"/\"+str(x)+str(f\"{y:03}\")+str(ext),'r') as file:\n",
        "      data = file.read().split('\\n')\n",
        "      if x != 'E':\n",
        "        data[-1] = 0\n",
        "      else:\n",
        "        data[-1] = 1\n",
        "      df.loc[len(df)] = data\n",
        "      # print(len(data))\n",
        "df.rename(columns = {'4097':'y'}, inplace = True)\n",
        "print(df)\n",
        "print(len(df))"
      ],
      "metadata": {
        "id": "9cZKaoZIAmLX"
      },
      "execution_count": null,
      "outputs": []
    },
    {
      "cell_type": "code",
      "source": [
        "df.to_csv(\"/content/data.csv\")"
      ],
      "metadata": {
        "id": "stwAleyDLsOc"
      },
      "execution_count": null,
      "outputs": []
    },
    {
      "cell_type": "markdown",
      "source": [
        "# load data"
      ],
      "metadata": {
        "id": "M2gLFr5lRHxy"
      }
    },
    {
      "cell_type": "code",
      "source": [
        "df=pd.read_csv('/content/data.csv')\n",
        "# shuffle the DataFrame rows\n",
        "df = df.sample(frac = 1)\n",
        "df.head(5)"
      ],
      "metadata": {
        "colab": {
          "base_uri": "https://localhost:8080/",
          "height": 317
        },
        "id": "rjSXF52mLrmC",
        "outputId": "6cafb015-f044-463a-cdcf-1c63f2f9e578"
      },
      "execution_count": null,
      "outputs": [
        {
          "output_type": "execute_result",
          "data": {
            "text/plain": [
              "     Unnamed: 0    0    1    2     3     4    5    6    7    8  ...   4088  \\\n",
              "9             9  374 -205 -871 -1325 -1291 -721   14  586  911  ... -484.0   \n",
              "81           81 -127 -164 -184  -209  -223 -261 -307 -411 -444  ...  -90.0   \n",
              "101         101   50   48   45    41    47   51   53   40   37  ...  -63.0   \n",
              "3             3   84   75   21   -68  -138 -184 -197 -186 -155  ... -148.0   \n",
              "412         412   10   -6  -14   -14    -9   -7    1    4    0  ...   47.0   \n",
              "\n",
              "      4089   4090   4091   4092   4093   4094   4095   4096  4097  \n",
              "9     37.0  414.0  605.0  711.0  698.0  633.0  503.0  803.0   1.0  \n",
              "81   -77.0  -46.0   -9.0   41.0  123.0  110.0   89.0  716.0   1.0  \n",
              "101  -63.0  -50.0  -39.0  -25.0  -19.0  -14.0   -9.0  -37.0   3.0  \n",
              "3   -171.0 -195.0 -218.0 -234.0 -238.0 -209.0 -165.0 -212.0   1.0  \n",
              "412   33.0   24.0   20.0   23.0   22.0   15.0    6.0  -46.0   5.0  \n",
              "\n",
              "[5 rows x 4099 columns]"
            ],
            "text/html": [
              "\n",
              "  <div id=\"df-0312e5e4-9b62-4929-a062-48173e2879b1\">\n",
              "    <div class=\"colab-df-container\">\n",
              "      <div>\n",
              "<style scoped>\n",
              "    .dataframe tbody tr th:only-of-type {\n",
              "        vertical-align: middle;\n",
              "    }\n",
              "\n",
              "    .dataframe tbody tr th {\n",
              "        vertical-align: top;\n",
              "    }\n",
              "\n",
              "    .dataframe thead th {\n",
              "        text-align: right;\n",
              "    }\n",
              "</style>\n",
              "<table border=\"1\" class=\"dataframe\">\n",
              "  <thead>\n",
              "    <tr style=\"text-align: right;\">\n",
              "      <th></th>\n",
              "      <th>Unnamed: 0</th>\n",
              "      <th>0</th>\n",
              "      <th>1</th>\n",
              "      <th>2</th>\n",
              "      <th>3</th>\n",
              "      <th>4</th>\n",
              "      <th>5</th>\n",
              "      <th>6</th>\n",
              "      <th>7</th>\n",
              "      <th>8</th>\n",
              "      <th>...</th>\n",
              "      <th>4088</th>\n",
              "      <th>4089</th>\n",
              "      <th>4090</th>\n",
              "      <th>4091</th>\n",
              "      <th>4092</th>\n",
              "      <th>4093</th>\n",
              "      <th>4094</th>\n",
              "      <th>4095</th>\n",
              "      <th>4096</th>\n",
              "      <th>4097</th>\n",
              "    </tr>\n",
              "  </thead>\n",
              "  <tbody>\n",
              "    <tr>\n",
              "      <th>9</th>\n",
              "      <td>9</td>\n",
              "      <td>374</td>\n",
              "      <td>-205</td>\n",
              "      <td>-871</td>\n",
              "      <td>-1325</td>\n",
              "      <td>-1291</td>\n",
              "      <td>-721</td>\n",
              "      <td>14</td>\n",
              "      <td>586</td>\n",
              "      <td>911</td>\n",
              "      <td>...</td>\n",
              "      <td>-484.0</td>\n",
              "      <td>37.0</td>\n",
              "      <td>414.0</td>\n",
              "      <td>605.0</td>\n",
              "      <td>711.0</td>\n",
              "      <td>698.0</td>\n",
              "      <td>633.0</td>\n",
              "      <td>503.0</td>\n",
              "      <td>803.0</td>\n",
              "      <td>1.0</td>\n",
              "    </tr>\n",
              "    <tr>\n",
              "      <th>81</th>\n",
              "      <td>81</td>\n",
              "      <td>-127</td>\n",
              "      <td>-164</td>\n",
              "      <td>-184</td>\n",
              "      <td>-209</td>\n",
              "      <td>-223</td>\n",
              "      <td>-261</td>\n",
              "      <td>-307</td>\n",
              "      <td>-411</td>\n",
              "      <td>-444</td>\n",
              "      <td>...</td>\n",
              "      <td>-90.0</td>\n",
              "      <td>-77.0</td>\n",
              "      <td>-46.0</td>\n",
              "      <td>-9.0</td>\n",
              "      <td>41.0</td>\n",
              "      <td>123.0</td>\n",
              "      <td>110.0</td>\n",
              "      <td>89.0</td>\n",
              "      <td>716.0</td>\n",
              "      <td>1.0</td>\n",
              "    </tr>\n",
              "    <tr>\n",
              "      <th>101</th>\n",
              "      <td>101</td>\n",
              "      <td>50</td>\n",
              "      <td>48</td>\n",
              "      <td>45</td>\n",
              "      <td>41</td>\n",
              "      <td>47</td>\n",
              "      <td>51</td>\n",
              "      <td>53</td>\n",
              "      <td>40</td>\n",
              "      <td>37</td>\n",
              "      <td>...</td>\n",
              "      <td>-63.0</td>\n",
              "      <td>-63.0</td>\n",
              "      <td>-50.0</td>\n",
              "      <td>-39.0</td>\n",
              "      <td>-25.0</td>\n",
              "      <td>-19.0</td>\n",
              "      <td>-14.0</td>\n",
              "      <td>-9.0</td>\n",
              "      <td>-37.0</td>\n",
              "      <td>3.0</td>\n",
              "    </tr>\n",
              "    <tr>\n",
              "      <th>3</th>\n",
              "      <td>3</td>\n",
              "      <td>84</td>\n",
              "      <td>75</td>\n",
              "      <td>21</td>\n",
              "      <td>-68</td>\n",
              "      <td>-138</td>\n",
              "      <td>-184</td>\n",
              "      <td>-197</td>\n",
              "      <td>-186</td>\n",
              "      <td>-155</td>\n",
              "      <td>...</td>\n",
              "      <td>-148.0</td>\n",
              "      <td>-171.0</td>\n",
              "      <td>-195.0</td>\n",
              "      <td>-218.0</td>\n",
              "      <td>-234.0</td>\n",
              "      <td>-238.0</td>\n",
              "      <td>-209.0</td>\n",
              "      <td>-165.0</td>\n",
              "      <td>-212.0</td>\n",
              "      <td>1.0</td>\n",
              "    </tr>\n",
              "    <tr>\n",
              "      <th>412</th>\n",
              "      <td>412</td>\n",
              "      <td>10</td>\n",
              "      <td>-6</td>\n",
              "      <td>-14</td>\n",
              "      <td>-14</td>\n",
              "      <td>-9</td>\n",
              "      <td>-7</td>\n",
              "      <td>1</td>\n",
              "      <td>4</td>\n",
              "      <td>0</td>\n",
              "      <td>...</td>\n",
              "      <td>47.0</td>\n",
              "      <td>33.0</td>\n",
              "      <td>24.0</td>\n",
              "      <td>20.0</td>\n",
              "      <td>23.0</td>\n",
              "      <td>22.0</td>\n",
              "      <td>15.0</td>\n",
              "      <td>6.0</td>\n",
              "      <td>-46.0</td>\n",
              "      <td>5.0</td>\n",
              "    </tr>\n",
              "  </tbody>\n",
              "</table>\n",
              "<p>5 rows × 4099 columns</p>\n",
              "</div>\n",
              "      <button class=\"colab-df-convert\" onclick=\"convertToInteractive('df-0312e5e4-9b62-4929-a062-48173e2879b1')\"\n",
              "              title=\"Convert this dataframe to an interactive table.\"\n",
              "              style=\"display:none;\">\n",
              "        \n",
              "  <svg xmlns=\"http://www.w3.org/2000/svg\" height=\"24px\"viewBox=\"0 0 24 24\"\n",
              "       width=\"24px\">\n",
              "    <path d=\"M0 0h24v24H0V0z\" fill=\"none\"/>\n",
              "    <path d=\"M18.56 5.44l.94 2.06.94-2.06 2.06-.94-2.06-.94-.94-2.06-.94 2.06-2.06.94zm-11 1L8.5 8.5l.94-2.06 2.06-.94-2.06-.94L8.5 2.5l-.94 2.06-2.06.94zm10 10l.94 2.06.94-2.06 2.06-.94-2.06-.94-.94-2.06-.94 2.06-2.06.94z\"/><path d=\"M17.41 7.96l-1.37-1.37c-.4-.4-.92-.59-1.43-.59-.52 0-1.04.2-1.43.59L10.3 9.45l-7.72 7.72c-.78.78-.78 2.05 0 2.83L4 21.41c.39.39.9.59 1.41.59.51 0 1.02-.2 1.41-.59l7.78-7.78 2.81-2.81c.8-.78.8-2.07 0-2.86zM5.41 20L4 18.59l7.72-7.72 1.47 1.35L5.41 20z\"/>\n",
              "  </svg>\n",
              "      </button>\n",
              "      \n",
              "  <style>\n",
              "    .colab-df-container {\n",
              "      display:flex;\n",
              "      flex-wrap:wrap;\n",
              "      gap: 12px;\n",
              "    }\n",
              "\n",
              "    .colab-df-convert {\n",
              "      background-color: #E8F0FE;\n",
              "      border: none;\n",
              "      border-radius: 50%;\n",
              "      cursor: pointer;\n",
              "      display: none;\n",
              "      fill: #1967D2;\n",
              "      height: 32px;\n",
              "      padding: 0 0 0 0;\n",
              "      width: 32px;\n",
              "    }\n",
              "\n",
              "    .colab-df-convert:hover {\n",
              "      background-color: #E2EBFA;\n",
              "      box-shadow: 0px 1px 2px rgba(60, 64, 67, 0.3), 0px 1px 3px 1px rgba(60, 64, 67, 0.15);\n",
              "      fill: #174EA6;\n",
              "    }\n",
              "\n",
              "    [theme=dark] .colab-df-convert {\n",
              "      background-color: #3B4455;\n",
              "      fill: #D2E3FC;\n",
              "    }\n",
              "\n",
              "    [theme=dark] .colab-df-convert:hover {\n",
              "      background-color: #434B5C;\n",
              "      box-shadow: 0px 1px 3px 1px rgba(0, 0, 0, 0.15);\n",
              "      filter: drop-shadow(0px 1px 2px rgba(0, 0, 0, 0.3));\n",
              "      fill: #FFFFFF;\n",
              "    }\n",
              "  </style>\n",
              "\n",
              "      <script>\n",
              "        const buttonEl =\n",
              "          document.querySelector('#df-0312e5e4-9b62-4929-a062-48173e2879b1 button.colab-df-convert');\n",
              "        buttonEl.style.display =\n",
              "          google.colab.kernel.accessAllowed ? 'block' : 'none';\n",
              "\n",
              "        async function convertToInteractive(key) {\n",
              "          const element = document.querySelector('#df-0312e5e4-9b62-4929-a062-48173e2879b1');\n",
              "          const dataTable =\n",
              "            await google.colab.kernel.invokeFunction('convertToInteractive',\n",
              "                                                     [key], {});\n",
              "          if (!dataTable) return;\n",
              "\n",
              "          const docLinkHtml = 'Like what you see? Visit the ' +\n",
              "            '<a target=\"_blank\" href=https://colab.research.google.com/notebooks/data_table.ipynb>data table notebook</a>'\n",
              "            + ' to learn more about interactive tables.';\n",
              "          element.innerHTML = '';\n",
              "          dataTable['output_type'] = 'display_data';\n",
              "          await google.colab.output.renderOutput(dataTable, element);\n",
              "          const docLink = document.createElement('div');\n",
              "          docLink.innerHTML = docLinkHtml;\n",
              "          element.appendChild(docLink);\n",
              "        }\n",
              "      </script>\n",
              "    </div>\n",
              "  </div>\n",
              "  "
            ]
          },
          "metadata": {},
          "execution_count": 4
        }
      ]
    },
    {
      "cell_type": "code",
      "source": [
        "X=df.values\n",
        "X = X[:,1:]"
      ],
      "metadata": {
        "id": "BbdUhbk6LxI-"
      },
      "execution_count": null,
      "outputs": []
    },
    {
      "cell_type": "code",
      "source": [
        "for i, v in enumerate(X):\n",
        "  if X[i][4097] !=1:\n",
        "    X[i][4097] =0\n",
        "print(X)"
      ],
      "metadata": {
        "colab": {
          "base_uri": "https://localhost:8080/"
        },
        "id": "MrkUfMT_Ms6b",
        "outputId": "90da2adf-8d33-4079-96a0-56a471d6dbc4"
      },
      "execution_count": null,
      "outputs": [
        {
          "output_type": "stream",
          "name": "stdout",
          "text": [
            "[[ 374. -205. -871. ...  503.  803.    1.]\n",
            " [-127. -164. -184. ...   89.  716.    1.]\n",
            " [  50.   48.   45. ...   -9.  -37.    0.]\n",
            " ...\n",
            " [ -72.  -78.  -90. ...  -40.  -22.    0.]\n",
            " [ 142.  142.  138. ...   66.  142.    0.]\n",
            " [  35.   34.   34. ...   42.  -11.    0.]]\n"
          ]
        }
      ]
    },
    {
      "cell_type": "code",
      "source": [
        "plt.figure(figsize=(12,8))\n",
        "plt.ylim(-1200, 1200)\n",
        "\n",
        "for x in X:\n",
        "  if x[-1] == 1:\n",
        "    plt.plot(x)\n",
        "# plt.legend()\n",
        "plt.show()"
      ],
      "metadata": {
        "id": "l9bOYaqbL2pw"
      },
      "execution_count": null,
      "outputs": []
    },
    {
      "cell_type": "code",
      "source": [
        "# removing category y values\n",
        "X = X[:,:-1]"
      ],
      "metadata": {
        "id": "A5ZbUH0eN30I"
      },
      "execution_count": null,
      "outputs": []
    },
    {
      "cell_type": "code",
      "source": [
        "print(X)"
      ],
      "metadata": {
        "colab": {
          "base_uri": "https://localhost:8080/"
        },
        "id": "ymf7KvMvOEeV",
        "outputId": "87cf7bb6-6522-42a1-a7e7-bcb2f8f2ebd6"
      },
      "execution_count": null,
      "outputs": [
        {
          "output_type": "stream",
          "name": "stdout",
          "text": [
            "[[  98   88   76 ...  244  184   70]\n",
            " [-136 -121  -84 ...  -12  -13  -31]\n",
            " [   5    2   -6 ...   36   36   -5]\n",
            " ...\n",
            " [ -28  -35  -37 ...    4   -4  -13]\n",
            " [  51   38   34 ...  -90 -101    2]\n",
            " [ -63  -71  -77 ...  -31  -39  -53]]\n"
          ]
        }
      ]
    },
    {
      "cell_type": "code",
      "source": [
        "from sklearn.model_selection import train_test_split\n",
        "\n",
        "Y=list(df['4097'])"
      ],
      "metadata": {
        "id": "NxJTZsUrcoJa"
      },
      "execution_count": null,
      "outputs": []
    },
    {
      "cell_type": "markdown",
      "source": [
        "# Preprocessing"
      ],
      "metadata": {
        "id": "u1vkm2jrQ84R"
      }
    },
    {
      "cell_type": "code",
      "source": [
        "from os import fstatvfs\n",
        "# denoising and bandpass filter using butterworth\n",
        "from scipy.signal import butter, filtfilt\n",
        "# # Cutoff frequency (in Hz)\n",
        "# cutoff = 40\n",
        "# Order of the filter\n",
        "order = 2  # to begin with\n",
        "# Sampling frequency of the ECG signal (in Hz)\n",
        "fs = 173.6\n",
        "# low cut freq Hz\n",
        "low_cut = 1\n",
        "# high cut freq Hz\n",
        "high_cut = 40\n",
        "\n",
        "# Compute the filter coefficients\n",
        "nyq = 0.5 * fs # Nyquist frequency (in Hz) i.e half the sampling rate\n",
        "low = low_cut / nyq\n",
        "high = high_cut / nyq\n",
        "\n",
        "b, a = butter(order, [low, high], btype='band')\n"
      ],
      "metadata": {
        "id": "KO-dc10P6cF0"
      },
      "execution_count": null,
      "outputs": []
    },
    {
      "cell_type": "code",
      "source": [
        "eeg_filtered = list()\n",
        "for eeg_data in X:\n",
        "  # Apply the filter\n",
        "  eeg_filtered.append(filtfilt(b, a, eeg_data))"
      ],
      "metadata": {
        "id": "OBKNZcxP6euP"
      },
      "execution_count": null,
      "outputs": []
    },
    {
      "cell_type": "code",
      "source": [
        "# smoothing\n",
        "from scipy.signal import medfilt\n",
        "\n",
        "# define window size for median filter\n",
        "window_size = 3\n",
        "\n",
        "\n",
        "smoothed_data = list()\n",
        "for eeg_data in eeg_filtered:\n",
        "  # apply median filter to EEG signal\n",
        "  smoothed_data.append(medfilt(eeg_data, kernel_size=window_size))\n"
      ],
      "metadata": {
        "id": "ChBpEAiz6hPZ"
      },
      "execution_count": null,
      "outputs": []
    },
    {
      "cell_type": "code",
      "source": [
        "eeg = smoothed_data"
      ],
      "metadata": {
        "id": "TXRG_KO36kD6"
      },
      "execution_count": null,
      "outputs": []
    },
    {
      "cell_type": "markdown",
      "source": [
        "# Applying DWT"
      ],
      "metadata": {
        "id": "aPL_Q7AKjDq6"
      }
    },
    {
      "cell_type": "code",
      "source": [
        "import pywt\n",
        "\n",
        "# Define wavelet family and level of decomposition\n",
        "wavelet_family = 'db4'\n",
        "level = 5"
      ],
      "metadata": {
        "id": "yH5KS67i66-h"
      },
      "execution_count": null,
      "outputs": []
    },
    {
      "cell_type": "code",
      "source": [
        "eeg_new = list()\n",
        "for eeg_data in eeg:\n",
        "  # Perform DWT decomposition\n",
        "  coeffs = pywt.wavedec(eeg_data, wavelet_family, level=level)\n",
        "\n",
        "  # Get approximation coefficients (cA) and detail coefficients (cD)\n",
        "  cA, cD = coeffs[0], coeffs[1:]\n",
        "\n",
        "  # Reconstruct original signal from approximation coefficients and detail coefficients\n",
        "  eeg_new.append(pywt.waverec(coeffs, wavelet_family))\n"
      ],
      "metadata": {
        "id": "kAL1BnoB7CvB"
      },
      "execution_count": null,
      "outputs": []
    },
    {
      "cell_type": "code",
      "source": [
        "X = np.array(eeg_new)\n",
        "print(X)"
      ],
      "metadata": {
        "id": "GmMh68Rg7Ff8",
        "colab": {
          "base_uri": "https://localhost:8080/"
        },
        "outputId": "6be0c88c-0a95-480b-86a8-0728b5bce9eb"
      },
      "execution_count": null,
      "outputs": [
        {
          "output_type": "stream",
          "name": "stdout",
          "text": [
            "[[-2.42394723e+02 -8.63947033e+02 -1.46675976e+03 ...  1.37863492e+02\n",
            "   1.37863492e+02  1.37863492e+02]\n",
            " [ 2.21074590e+02  2.21074590e+02  1.81332378e+02 ... -3.79469633e+02\n",
            "   2.84217094e-14  8.52651283e-14]\n",
            " [ 8.78161375e+00  8.78161375e+00  8.78161375e+00 ...  1.22680158e+01\n",
            "  -4.44089210e-15 -2.66453526e-15]\n",
            " ...\n",
            " [-1.66611031e+01 -2.54078579e+01 -3.41408007e+01 ... -2.68312623e+00\n",
            "  -1.88737914e-15 -7.77156117e-16]\n",
            " [-5.34616642e+00 -5.34616642e+00 -3.81300369e-01 ... -1.16095275e+02\n",
            "  -7.85557917e+01 -7.85557917e+01]\n",
            " [-1.27195329e+01 -1.27195329e+01 -1.19028589e+01 ...  2.61634501e+01\n",
            "  -7.99360578e-15  3.55271368e-15]]\n"
          ]
        }
      ]
    },
    {
      "cell_type": "markdown",
      "source": [
        "#Split dataset"
      ],
      "metadata": {
        "id": "dOsqnuF1pDco"
      }
    },
    {
      "cell_type": "code",
      "source": [
        "print(Y)"
      ],
      "metadata": {
        "colab": {
          "base_uri": "https://localhost:8080/"
        },
        "id": "wXK6FnUTQdw3",
        "outputId": "3b13e695-cc03-4632-e8cd-84e56c33dc7e"
      },
      "execution_count": null,
      "outputs": [
        {
          "output_type": "stream",
          "name": "stdout",
          "text": [
            "[1, 0, 0, 0, 0, 0, 0, 0, 0, 0, 1, 0, 0, 0, 1, 1, 0, 1, 0, 0, 1, 0, 0, 1, 0, 0, 0, 1, 1, 0, 0, 0, 0, 0, 0, 0, 0, 0, 0, 0, 0, 1, 0, 0, 1, 1, 0, 0, 0, 0, 0, 0, 0, 0, 1, 0, 0, 1, 0, 0, 0, 0, 0, 0, 0, 1, 0, 0, 0, 0, 0, 1, 0, 0, 0, 0, 0, 0, 0, 1, 1, 0, 0, 1, 0, 0, 0, 0, 0, 1, 0, 0, 1, 0, 1, 0, 0, 0, 0, 0, 0, 0, 0, 0, 1, 0, 1, 0, 0, 1, 0, 0, 0, 0, 0, 0, 0, 0, 0, 0, 0, 0, 0, 0, 0, 0, 0, 0, 0, 0, 0, 0, 0, 0, 0, 0, 0, 0, 0, 0, 0, 0, 0, 1, 0, 0, 1, 1, 0, 0, 1, 0, 0, 0, 0, 0, 1, 0, 0, 0, 1, 0, 0, 0, 0, 1, 0, 0, 0, 0, 0, 0, 0, 0, 0, 0, 0, 0, 0, 0, 0, 1, 1, 0, 0, 0, 0, 0, 0, 1, 1, 0, 0, 0, 0, 0, 0, 0, 0, 1, 0, 0, 0, 0, 0, 0, 0, 1, 0, 0, 1, 0, 0, 1, 0, 0, 0, 0, 0, 1, 0, 0, 0, 0, 0, 0, 0, 0, 0, 0, 0, 0, 1, 0, 0, 1, 0, 1, 1, 1, 0, 0, 0, 1, 0, 0, 0, 0, 0, 1, 0, 0, 0, 0, 1, 0, 0, 1, 0, 0, 0, 0, 1, 0, 0, 0, 0, 0, 0, 0, 0, 0, 0, 0, 1, 0, 0, 0, 0, 0, 0, 0, 0, 1, 0, 1, 0, 0, 0, 0, 0, 0, 1, 0, 0, 0, 0, 0, 0, 0, 0, 0, 1, 0, 1, 0, 0, 0, 0, 1, 0, 0, 0, 1, 0, 0, 0, 0, 1, 0, 0, 0, 0, 0, 0, 0, 0, 0, 0, 0, 0, 0, 0, 0, 1, 0, 1, 0, 0, 0, 0, 0, 0, 0, 0, 1, 0, 0, 0, 0, 0, 1, 1, 0, 0, 1, 0, 1, 0, 0, 1, 0, 1, 0, 0, 0, 0, 0, 0, 0, 1, 0, 0, 0, 0, 0, 0, 1, 0, 0, 0, 0, 0, 1, 1, 0, 0, 0, 0, 0, 0, 0, 0, 0, 0, 0, 0, 0, 1, 0, 0, 0, 1, 0, 1, 0, 0, 1, 1, 0, 0, 0, 0, 0, 1, 1, 0, 0, 0, 0, 1, 0, 0, 1, 1, 0, 0, 0, 0, 0, 1, 1, 0, 0, 0, 0, 0, 0, 0, 0, 1, 0, 0, 0, 0, 1, 1, 1, 0, 0, 0, 1, 1, 0, 0, 0, 0, 1, 0, 0, 0, 0, 1, 1, 0, 0, 1, 0, 0, 1, 0, 1, 0, 0, 0, 0, 0, 0, 0, 0, 0, 0, 0, 0, 0, 0, 0, 1, 0, 0, 1, 0, 0, 0, 1, 0, 0, 0, 0, 0]\n"
          ]
        }
      ]
    },
    {
      "cell_type": "code",
      "source": [
        "Y = np.array(Y)\n",
        "\n",
        "\n",
        "Y.shape\n",
        "X_train, X_test, Y_train, Y_test = train_test_split(X.astype(int), Y, test_size=0.20, random_state=42)"
      ],
      "metadata": {
        "id": "NthvLYUiqKUf"
      },
      "execution_count": null,
      "outputs": []
    },
    {
      "cell_type": "code",
      "source": [
        "print(Y.shape)"
      ],
      "metadata": {
        "colab": {
          "base_uri": "https://localhost:8080/"
        },
        "id": "tzCskEiHYDKN",
        "outputId": "79420da6-a898-466b-db32-0ddab0ce0020"
      },
      "execution_count": null,
      "outputs": [
        {
          "output_type": "stream",
          "name": "stdout",
          "text": [
            "(500,)\n"
          ]
        }
      ]
    },
    {
      "cell_type": "code",
      "source": [
        "print(Y_train.shape, X_train.shape)\n",
        "# print(Y_train)"
      ],
      "metadata": {
        "colab": {
          "base_uri": "https://localhost:8080/"
        },
        "id": "oJbgxyn4cv46",
        "outputId": "8e339cbd-4051-454f-cbdc-3f450d47afcd"
      },
      "execution_count": null,
      "outputs": [
        {
          "output_type": "stream",
          "name": "stdout",
          "text": [
            "(400,) (400, 4098)\n"
          ]
        }
      ]
    },
    {
      "cell_type": "markdown",
      "source": [
        "# Model Building"
      ],
      "metadata": {
        "id": "XmQwLExORCJ7"
      }
    },
    {
      "cell_type": "code",
      "source": [
        "import tensorflow as tf\n",
        "from tensorflow.keras.models import Sequential\n",
        "from tensorflow.keras.layers import Dense, Conv1D, MaxPooling1D, Flatten, Dropout\n",
        "import numpy as np\n",
        "\n",
        "def build_model(X):\n",
        "    n_samples = X[0].shape[0]\n",
        "    n_channels = 1  # Since the input is a 1D array, there is only one channel\n",
        "    print(n_samples, n_channels)\n",
        "    # Reshape the input data to a 2D array\n",
        "    # X = np.reshape(X, (n_samples, n_channels))\n",
        "    model =\"\"\n",
        "    model = Sequential()\n",
        "\n",
        "    # Add the input layer\n",
        "    model.add(Conv1D(filters=11, kernel_size=5, activation='relu', input_shape=(n_samples, n_channels)))\n",
        "\n",
        "    # # Add a max pooling layer\n",
        "    model.add(MaxPooling1D(pool_size=4, strides=4))\n",
        "\n",
        "    # Add another convolutional layer\n",
        "    model.add(Conv1D(filters=7, kernel_size=5, activation='relu'))\n",
        "\n",
        "    # # Add another max pooling layer\n",
        "    model.add(MaxPooling1D(pool_size=4, strides=4))\n",
        "\n",
        "    # Flatten the output from the convolutional layers\n",
        "    model.add(Flatten())\n",
        "\n",
        "    # Add a fully connected layer\n",
        "    model.add(Dense(units=50, activation='relu'))\n",
        "\n",
        "    model.add(Dense(units=20, activation='relu'))\n",
        "\n",
        "    # model.add(Dense(units=5, activation='relu'))\n",
        "\n",
        "    # Add dropout to reduce overfitting\n",
        "    model.add(Dropout(0.5))\n",
        "\n",
        "    # Add the output layer with a single neuron and sigmoid activation\n",
        "    model.add(Dense(units=1, activation='sigmoid'))\n",
        "\n",
        "    # Compile the model\n",
        "    model.compile(loss='binary_crossentropy', optimizer='adam', metrics=['accuracy'])\n",
        "\n",
        "    return model\n"
      ],
      "metadata": {
        "id": "U7VX2JPPThDH"
      },
      "execution_count": null,
      "outputs": []
    },
    {
      "cell_type": "code",
      "source": [
        "model = build_model(X)"
      ],
      "metadata": {
        "colab": {
          "base_uri": "https://localhost:8080/"
        },
        "id": "dfQgyLzhTkkE",
        "outputId": "d697d3d5-02a0-4517-e10b-063b343f8d11"
      },
      "execution_count": null,
      "outputs": [
        {
          "output_type": "stream",
          "name": "stdout",
          "text": [
            "4098 1\n"
          ]
        }
      ]
    },
    {
      "cell_type": "markdown",
      "source": [
        "# Model Training and Results"
      ],
      "metadata": {
        "id": "mJEOrHqaTdJ2"
      }
    },
    {
      "cell_type": "code",
      "source": [
        "# Train your model\n",
        "history = model.fit(X_train, Y_train, validation_data=(X_test, Y_test), batch_size=32, epochs=1000)\n"
      ],
      "metadata": {
        "id": "48q0IZiTbuaB"
      },
      "execution_count": null,
      "outputs": []
    },
    {
      "cell_type": "code",
      "source": [
        "plt.plot(history.history['loss'], label='train')\n",
        "plt.plot(history.history['val_loss'], label='test')\n",
        "plt.legend()\n",
        "plt.show()\n",
        "plt.plot(history.history['accuracy'], label='train')\n",
        "plt.plot(history.history['val_accuracy'], label='test')\n",
        "plt.legend()\n",
        "plt.show()"
      ],
      "metadata": {
        "colab": {
          "base_uri": "https://localhost:8080/",
          "height": 843
        },
        "id": "NfzL2VmD1C9_",
        "outputId": "afdc1f47-431f-4ea4-86ae-033cb2ec19ae"
      },
      "execution_count": null,
      "outputs": [
        {
          "output_type": "display_data",
          "data": {
            "text/plain": [
              "<Figure size 640x480 with 1 Axes>"
            ],
            "image/png": "[encoded data removed]"
          },
          "metadata": {}
        },
        {
          "output_type": "display_data",
          "data": {
            "text/plain": [
              "<Figure size 640x480 with 1 Axes>"
            ],
            "image/png": "[encoded data removed]"
          },
          "metadata": {}
        }
      ]
    },
    {
      "cell_type": "code",
      "source": [
        "test_loss, test_acc = model.evaluate(X_test, Y_test)\n",
        "print('Test accuracy:', test_acc)"
      ],
      "metadata": {
        "colab": {
          "base_uri": "https://localhost:8080/"
        },
        "id": "UNudzpS9by6M",
        "outputId": "8f1bde74-b231-4fa6-dab4-1a6ae1c6e035"
      },
      "execution_count": null,
      "outputs": [
        {
          "output_type": "stream",
          "name": "stdout",
          "text": [
            "4/4 [==============================] - 0s 21ms/step - loss: 0.0095 - accuracy: 1.0000\n",
            "Test accuracy: 1.0\n"
          ]
        }
      ]
    },
    {
      "cell_type": "code",
      "source": [
        "\n",
        "from sklearn.metrics import classification_report"
      ],
      "metadata": {
        "id": "brBjTO37tVe5"
      },
      "execution_count": null,
      "outputs": []
    },
    {
      "cell_type": "code",
      "source": [
        "predict_x = model.predict(X_test, verbose=0)"
      ],
      "metadata": {
        "id": "8Fr8DO54u8Db"
      },
      "execution_count": null,
      "outputs": []
    },
    {
      "cell_type": "code",
      "source": [
        "y_pred1 = (predict_x > 0.5).astype(\"int32\")"
      ],
      "metadata": {
        "id": "ETRqtSgHw1y_"
      },
      "execution_count": null,
      "outputs": []
    },
    {
      "cell_type": "code",
      "source": [
        "print(classification_report(Y_test,y_pred1))"
      ],
      "metadata": {
        "colab": {
          "base_uri": "https://localhost:8080/"
        },
        "id": "nMF8Oi3gynoc",
        "outputId": "1ab8bdcb-15bc-4697-8934-97716af9cb06"
      },
      "execution_count": null,
      "outputs": [
        {
          "output_type": "stream",
          "name": "stdout",
          "text": [
            "              precision    recall  f1-score   support\n",
            "\n",
            "           0       1.00      1.00      1.00        78\n",
            "           1       1.00      1.00      1.00        22\n",
            "\n",
            "    accuracy                           1.00       100\n",
            "   macro avg       1.00      1.00      1.00       100\n",
            "weighted avg       1.00      1.00      1.00       100\n",
            "\n"
          ]
        }
      ]
    },
    {
      "cell_type": "code",
      "source": [
        "from sklearn.metrics import roc_auc_score\n",
        "# calculate AUC\n",
        "auc = roc_auc_score(Y_test, predict_x)\n",
        "print('AUC: %.3f' % auc)"
      ],
      "metadata": {
        "id": "UFLF44gHhBQR",
        "colab": {
          "base_uri": "https://localhost:8080/"
        },
        "outputId": "4a2834f8-92f4-4f75-fc35-c2bda1f64065"
      },
      "execution_count": null,
      "outputs": [
        {
          "output_type": "stream",
          "name": "stdout",
          "text": [
            "AUC: 1.000\n"
          ]
        }
      ]
    },
    {
      "cell_type": "code",
      "source": [
        "from sklearn.metrics import precision_recall_curve\n",
        "from sklearn.metrics import auc\n",
        "# calculate precision-recall curve\n",
        "precision, recall, thresholds = precision_recall_curve(Y_test, predict_x)\n",
        "# calculate precision-recall AUC i.e AUPR\n",
        "aupr = auc(recall, precision)\n",
        "print('AUC: %.3f' % aupr)\n"
      ],
      "metadata": {
        "id": "Lfx41NLI5_pN",
        "colab": {
          "base_uri": "https://localhost:8080/"
        },
        "outputId": "58ce1f39-affb-4509-bdc5-7c2160c8de7d"
      },
      "execution_count": null,
      "outputs": [
        {
          "output_type": "stream",
          "name": "stdout",
          "text": [
            "AUC: 1.000\n"
          ]
        }
      ]
    },
    {
      "cell_type": "markdown",
      "source": [
        "#Extra"
      ],
      "metadata": {
        "id": "lqleQx1iCFy_"
      }
    },
    {
      "cell_type": "markdown",
      "source": [
        "In case the dataset is very imbalanced, trying to apply threshold tuning"
      ],
      "metadata": {
        "id": "b628i8PfCAqX"
      }
    },
    {
      "cell_type": "code",
      "source": [
        "# convert to f score\n",
        "fscore = list()\n",
        "for i in range(0, len(precision)):\n",
        "  if precision[i] != 0 and recall [i] != 0:\n",
        "    fscore.append((2 * precision[i] * recall[i]) / (precision[i] + recall[i]))\n",
        "  else:\n",
        "    fscore.append(0)\n",
        "print(fscore)\n",
        "# locate the index of the largest f score\n",
        "ix = np.argmax(fscore)\n",
        "print('Best Threshold=%f, F-Score=%.3f' % (thresholds[ix], fscore[ix]))"
      ],
      "metadata": {
        "id": "Wxit2YcZ6KWH",
        "colab": {
          "base_uri": "https://localhost:8080/"
        },
        "outputId": "41ddc5f9-3564-4354-dc20-6219c7e11c43"
      },
      "execution_count": null,
      "outputs": [
        {
          "output_type": "stream",
          "name": "stdout",
          "text": [
            "[0.36065573770491804, 0.36974789915966383, 0.7857142857142858, 0.8, 0.8148148148148148, 0.8301886792452831, 0.846153846153846, 0.8627450980392156, 0.88, 0.8979591836734693, 0.9166666666666666, 0.9361702127659575, 0.9565217391304348, 0.9777777777777777, 1.0, 0.9767441860465117, 0.9523809523809523, 0.9268292682926829, 0.9, 0]\n",
            "Best Threshold=0.997920, F-Score=1.000\n"
          ]
        }
      ]
    },
    {
      "cell_type": "code",
      "source": [
        "y_pred2 = (predict_x > thresholds[ix]).astype(\"int32\")\n",
        "# print(y_pred1)\n",
        "print(classification_report(Y_test,y_pred2))"
      ],
      "metadata": {
        "id": "Fg5RuQTM6NhM",
        "colab": {
          "base_uri": "https://localhost:8080/"
        },
        "outputId": "dcef8e2d-34b0-4c62-af15-9f7a76240c7f"
      },
      "execution_count": null,
      "outputs": [
        {
          "output_type": "stream",
          "name": "stdout",
          "text": [
            "              precision    recall  f1-score   support\n",
            "\n",
            "           0       0.99      1.00      0.99        78\n",
            "           1       1.00      0.95      0.98        22\n",
            "\n",
            "    accuracy                           0.99       100\n",
            "   macro avg       0.99      0.98      0.99       100\n",
            "weighted avg       0.99      0.99      0.99       100\n",
            "\n"
          ]
        }
      ]
    },
    {
      "cell_type": "markdown",
      "source": [
        "#Results for model"
      ],
      "metadata": {
        "id": "DRfUSqtvCLX1"
      }
    },
    {
      "cell_type": "code",
      "source": [
        "model.save('model.h5')"
      ],
      "metadata": {
        "id": "W2F9-7DLPEsw"
      },
      "execution_count": null,
      "outputs": []
    },
    {
      "cell_type": "code",
      "source": [
        "from tensorflow.keras.models import load_model\n",
        "new_model =  load_model('model.h5')"
      ],
      "metadata": {
        "id": "EG7IAwj14k3W"
      },
      "execution_count": null,
      "outputs": []
    },
    {
      "cell_type": "code",
      "source": [
        "test_loss, test_acc = new_model.evaluate(X_test, Y_test)\n",
        "print('Test accuracy:', test_acc)"
      ],
      "metadata": {
        "id": "u3VVTH3f4yzg"
      },
      "execution_count": null,
      "outputs": []
    },
    {
      "cell_type": "code",
      "source": [
        "predict_x = model.predict(X_test, verbose=0)"
      ],
      "metadata": {
        "id": "vKVdPwHk5Msu"
      },
      "execution_count": null,
      "outputs": []
    }
  ]
}